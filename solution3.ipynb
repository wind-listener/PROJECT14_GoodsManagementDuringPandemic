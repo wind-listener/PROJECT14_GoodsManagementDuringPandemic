{
 "cells": [
  {
   "cell_type": "markdown",
   "metadata": {},
   "source": [
    "## 生活物资的科学发放问题\n",
    "- 依据附件5分析蔬菜包需求、发放规律，\n",
    "- 并根据附件3中的各小区位置与人口信息，\n",
    "- 评价并调整4月10日至4月15日蔬菜包供应方案。"
   ]
  },
  {
   "cell_type": "code",
   "execution_count": null,
   "metadata": {},
   "outputs": [],
   "source": [
    "# 批处理附件五中的excel文件\n",
    "\n"
   ]
  }
 ],
 "metadata": {
  "kernelspec": {
   "display_name": "base",
   "language": "python",
   "name": "python3"
  },
  "language_info": {
   "name": "python",
   "version": "3.9.13"
  },
  "orig_nbformat": 4
 },
 "nbformat": 4,
 "nbformat_minor": 2
}
